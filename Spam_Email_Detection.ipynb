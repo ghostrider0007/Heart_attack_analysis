{
  "cells": [
    {
      "cell_type": "code",
      "execution_count": null,
      "id": "54f8d7a3",
      "metadata": {
        "id": "54f8d7a3"
      },
      "outputs": [],
      "source": [
        "import pandas as pd\n",
        "import numpy as np"
      ]
    },
    {
      "cell_type": "code",
      "execution_count": null,
      "id": "e8912b1f",
      "metadata": {
        "id": "e8912b1f",
        "outputId": "169753c5-9792-4286-f462-2ab41fc5eeae",
        "colab": {
          "base_uri": "https://localhost:8080/",
          "height": 206
        }
      },
      "outputs": [
        {
          "output_type": "execute_result",
          "data": {
            "text/plain": [
              "   Unnamed: 0                                               Body  Label\n",
              "0           0  \\nSave up to 70% on Life Insurance.\\nWhy Spend...      1\n",
              "1           1  1) Fight The Risk of Cancer!\\nhttp://www.adcli...      1\n",
              "2           2  1) Fight The Risk of Cancer!\\nhttp://www.adcli...      1\n",
              "3           3  ##############################################...      1\n",
              "4           4  I thought you might like these:\\n1) Slim Down ...      1"
            ],
            "text/html": [
              "\n",
              "  <div id=\"df-9d4b7f58-c2cc-4df5-91d6-c53911a5bbb2\">\n",
              "    <div class=\"colab-df-container\">\n",
              "      <div>\n",
              "<style scoped>\n",
              "    .dataframe tbody tr th:only-of-type {\n",
              "        vertical-align: middle;\n",
              "    }\n",
              "\n",
              "    .dataframe tbody tr th {\n",
              "        vertical-align: top;\n",
              "    }\n",
              "\n",
              "    .dataframe thead th {\n",
              "        text-align: right;\n",
              "    }\n",
              "</style>\n",
              "<table border=\"1\" class=\"dataframe\">\n",
              "  <thead>\n",
              "    <tr style=\"text-align: right;\">\n",
              "      <th></th>\n",
              "      <th>Unnamed: 0</th>\n",
              "      <th>Body</th>\n",
              "      <th>Label</th>\n",
              "    </tr>\n",
              "  </thead>\n",
              "  <tbody>\n",
              "    <tr>\n",
              "      <th>0</th>\n",
              "      <td>0</td>\n",
              "      <td>\\nSave up to 70% on Life Insurance.\\nWhy Spend...</td>\n",
              "      <td>1</td>\n",
              "    </tr>\n",
              "    <tr>\n",
              "      <th>1</th>\n",
              "      <td>1</td>\n",
              "      <td>1) Fight The Risk of Cancer!\\nhttp://www.adcli...</td>\n",
              "      <td>1</td>\n",
              "    </tr>\n",
              "    <tr>\n",
              "      <th>2</th>\n",
              "      <td>2</td>\n",
              "      <td>1) Fight The Risk of Cancer!\\nhttp://www.adcli...</td>\n",
              "      <td>1</td>\n",
              "    </tr>\n",
              "    <tr>\n",
              "      <th>3</th>\n",
              "      <td>3</td>\n",
              "      <td>##############################################...</td>\n",
              "      <td>1</td>\n",
              "    </tr>\n",
              "    <tr>\n",
              "      <th>4</th>\n",
              "      <td>4</td>\n",
              "      <td>I thought you might like these:\\n1) Slim Down ...</td>\n",
              "      <td>1</td>\n",
              "    </tr>\n",
              "  </tbody>\n",
              "</table>\n",
              "</div>\n",
              "      <button class=\"colab-df-convert\" onclick=\"convertToInteractive('df-9d4b7f58-c2cc-4df5-91d6-c53911a5bbb2')\"\n",
              "              title=\"Convert this dataframe to an interactive table.\"\n",
              "              style=\"display:none;\">\n",
              "        \n",
              "  <svg xmlns=\"http://www.w3.org/2000/svg\" height=\"24px\"viewBox=\"0 0 24 24\"\n",
              "       width=\"24px\">\n",
              "    <path d=\"M0 0h24v24H0V0z\" fill=\"none\"/>\n",
              "    <path d=\"M18.56 5.44l.94 2.06.94-2.06 2.06-.94-2.06-.94-.94-2.06-.94 2.06-2.06.94zm-11 1L8.5 8.5l.94-2.06 2.06-.94-2.06-.94L8.5 2.5l-.94 2.06-2.06.94zm10 10l.94 2.06.94-2.06 2.06-.94-2.06-.94-.94-2.06-.94 2.06-2.06.94z\"/><path d=\"M17.41 7.96l-1.37-1.37c-.4-.4-.92-.59-1.43-.59-.52 0-1.04.2-1.43.59L10.3 9.45l-7.72 7.72c-.78.78-.78 2.05 0 2.83L4 21.41c.39.39.9.59 1.41.59.51 0 1.02-.2 1.41-.59l7.78-7.78 2.81-2.81c.8-.78.8-2.07 0-2.86zM5.41 20L4 18.59l7.72-7.72 1.47 1.35L5.41 20z\"/>\n",
              "  </svg>\n",
              "      </button>\n",
              "      \n",
              "  <style>\n",
              "    .colab-df-container {\n",
              "      display:flex;\n",
              "      flex-wrap:wrap;\n",
              "      gap: 12px;\n",
              "    }\n",
              "\n",
              "    .colab-df-convert {\n",
              "      background-color: #E8F0FE;\n",
              "      border: none;\n",
              "      border-radius: 50%;\n",
              "      cursor: pointer;\n",
              "      display: none;\n",
              "      fill: #1967D2;\n",
              "      height: 32px;\n",
              "      padding: 0 0 0 0;\n",
              "      width: 32px;\n",
              "    }\n",
              "\n",
              "    .colab-df-convert:hover {\n",
              "      background-color: #E2EBFA;\n",
              "      box-shadow: 0px 1px 2px rgba(60, 64, 67, 0.3), 0px 1px 3px 1px rgba(60, 64, 67, 0.15);\n",
              "      fill: #174EA6;\n",
              "    }\n",
              "\n",
              "    [theme=dark] .colab-df-convert {\n",
              "      background-color: #3B4455;\n",
              "      fill: #D2E3FC;\n",
              "    }\n",
              "\n",
              "    [theme=dark] .colab-df-convert:hover {\n",
              "      background-color: #434B5C;\n",
              "      box-shadow: 0px 1px 3px 1px rgba(0, 0, 0, 0.15);\n",
              "      filter: drop-shadow(0px 1px 2px rgba(0, 0, 0, 0.3));\n",
              "      fill: #FFFFFF;\n",
              "    }\n",
              "  </style>\n",
              "\n",
              "      <script>\n",
              "        const buttonEl =\n",
              "          document.querySelector('#df-9d4b7f58-c2cc-4df5-91d6-c53911a5bbb2 button.colab-df-convert');\n",
              "        buttonEl.style.display =\n",
              "          google.colab.kernel.accessAllowed ? 'block' : 'none';\n",
              "\n",
              "        async function convertToInteractive(key) {\n",
              "          const element = document.querySelector('#df-9d4b7f58-c2cc-4df5-91d6-c53911a5bbb2');\n",
              "          const dataTable =\n",
              "            await google.colab.kernel.invokeFunction('convertToInteractive',\n",
              "                                                     [key], {});\n",
              "          if (!dataTable) return;\n",
              "\n",
              "          const docLinkHtml = 'Like what you see? Visit the ' +\n",
              "            '<a target=\"_blank\" href=https://colab.research.google.com/notebooks/data_table.ipynb>data table notebook</a>'\n",
              "            + ' to learn more about interactive tables.';\n",
              "          element.innerHTML = '';\n",
              "          dataTable['output_type'] = 'display_data';\n",
              "          await google.colab.output.renderOutput(dataTable, element);\n",
              "          const docLink = document.createElement('div');\n",
              "          docLink.innerHTML = docLinkHtml;\n",
              "          element.appendChild(docLink);\n",
              "        }\n",
              "      </script>\n",
              "    </div>\n",
              "  </div>\n",
              "  "
            ]
          },
          "metadata": {},
          "execution_count": 11
        }
      ],
      "source": [
        "df = pd.read_csv(\"/content/completeSpamAssassin.csv\")\n",
        "df.head()"
      ]
    },
    {
      "cell_type": "code",
      "source": [
        "df = df.drop('Unnamed: 0', axis=1)"
      ],
      "metadata": {
        "id": "Y4bYUSo2yWhc"
      },
      "id": "Y4bYUSo2yWhc",
      "execution_count": null,
      "outputs": []
    },
    {
      "cell_type": "code",
      "source": [
        "df.rename(columns={'Label': 'spam','Body':'Message'}, inplace=True)"
      ],
      "metadata": {
        "id": "aR4-1MEHxWAs"
      },
      "id": "aR4-1MEHxWAs",
      "execution_count": null,
      "outputs": []
    },
    {
      "cell_type": "code",
      "source": [
        "df.head()"
      ],
      "metadata": {
        "id": "wuHmYQvBxeJL",
        "outputId": "983df9a7-04ff-4e01-8627-159117797c1a",
        "colab": {
          "base_uri": "https://localhost:8080/",
          "height": 206
        }
      },
      "id": "wuHmYQvBxeJL",
      "execution_count": null,
      "outputs": [
        {
          "output_type": "execute_result",
          "data": {
            "text/plain": [
              "                                             Message  spam\n",
              "0  \\nSave up to 70% on Life Insurance.\\nWhy Spend...     1\n",
              "1  1) Fight The Risk of Cancer!\\nhttp://www.adcli...     1\n",
              "2  1) Fight The Risk of Cancer!\\nhttp://www.adcli...     1\n",
              "3  ##############################################...     1\n",
              "4  I thought you might like these:\\n1) Slim Down ...     1"
            ],
            "text/html": [
              "\n",
              "  <div id=\"df-9190059c-b7fa-47f8-b342-566b4f30d00a\">\n",
              "    <div class=\"colab-df-container\">\n",
              "      <div>\n",
              "<style scoped>\n",
              "    .dataframe tbody tr th:only-of-type {\n",
              "        vertical-align: middle;\n",
              "    }\n",
              "\n",
              "    .dataframe tbody tr th {\n",
              "        vertical-align: top;\n",
              "    }\n",
              "\n",
              "    .dataframe thead th {\n",
              "        text-align: right;\n",
              "    }\n",
              "</style>\n",
              "<table border=\"1\" class=\"dataframe\">\n",
              "  <thead>\n",
              "    <tr style=\"text-align: right;\">\n",
              "      <th></th>\n",
              "      <th>Message</th>\n",
              "      <th>spam</th>\n",
              "    </tr>\n",
              "  </thead>\n",
              "  <tbody>\n",
              "    <tr>\n",
              "      <th>0</th>\n",
              "      <td>\\nSave up to 70% on Life Insurance.\\nWhy Spend...</td>\n",
              "      <td>1</td>\n",
              "    </tr>\n",
              "    <tr>\n",
              "      <th>1</th>\n",
              "      <td>1) Fight The Risk of Cancer!\\nhttp://www.adcli...</td>\n",
              "      <td>1</td>\n",
              "    </tr>\n",
              "    <tr>\n",
              "      <th>2</th>\n",
              "      <td>1) Fight The Risk of Cancer!\\nhttp://www.adcli...</td>\n",
              "      <td>1</td>\n",
              "    </tr>\n",
              "    <tr>\n",
              "      <th>3</th>\n",
              "      <td>##############################################...</td>\n",
              "      <td>1</td>\n",
              "    </tr>\n",
              "    <tr>\n",
              "      <th>4</th>\n",
              "      <td>I thought you might like these:\\n1) Slim Down ...</td>\n",
              "      <td>1</td>\n",
              "    </tr>\n",
              "  </tbody>\n",
              "</table>\n",
              "</div>\n",
              "      <button class=\"colab-df-convert\" onclick=\"convertToInteractive('df-9190059c-b7fa-47f8-b342-566b4f30d00a')\"\n",
              "              title=\"Convert this dataframe to an interactive table.\"\n",
              "              style=\"display:none;\">\n",
              "        \n",
              "  <svg xmlns=\"http://www.w3.org/2000/svg\" height=\"24px\"viewBox=\"0 0 24 24\"\n",
              "       width=\"24px\">\n",
              "    <path d=\"M0 0h24v24H0V0z\" fill=\"none\"/>\n",
              "    <path d=\"M18.56 5.44l.94 2.06.94-2.06 2.06-.94-2.06-.94-.94-2.06-.94 2.06-2.06.94zm-11 1L8.5 8.5l.94-2.06 2.06-.94-2.06-.94L8.5 2.5l-.94 2.06-2.06.94zm10 10l.94 2.06.94-2.06 2.06-.94-2.06-.94-.94-2.06-.94 2.06-2.06.94z\"/><path d=\"M17.41 7.96l-1.37-1.37c-.4-.4-.92-.59-1.43-.59-.52 0-1.04.2-1.43.59L10.3 9.45l-7.72 7.72c-.78.78-.78 2.05 0 2.83L4 21.41c.39.39.9.59 1.41.59.51 0 1.02-.2 1.41-.59l7.78-7.78 2.81-2.81c.8-.78.8-2.07 0-2.86zM5.41 20L4 18.59l7.72-7.72 1.47 1.35L5.41 20z\"/>\n",
              "  </svg>\n",
              "      </button>\n",
              "      \n",
              "  <style>\n",
              "    .colab-df-container {\n",
              "      display:flex;\n",
              "      flex-wrap:wrap;\n",
              "      gap: 12px;\n",
              "    }\n",
              "\n",
              "    .colab-df-convert {\n",
              "      background-color: #E8F0FE;\n",
              "      border: none;\n",
              "      border-radius: 50%;\n",
              "      cursor: pointer;\n",
              "      display: none;\n",
              "      fill: #1967D2;\n",
              "      height: 32px;\n",
              "      padding: 0 0 0 0;\n",
              "      width: 32px;\n",
              "    }\n",
              "\n",
              "    .colab-df-convert:hover {\n",
              "      background-color: #E2EBFA;\n",
              "      box-shadow: 0px 1px 2px rgba(60, 64, 67, 0.3), 0px 1px 3px 1px rgba(60, 64, 67, 0.15);\n",
              "      fill: #174EA6;\n",
              "    }\n",
              "\n",
              "    [theme=dark] .colab-df-convert {\n",
              "      background-color: #3B4455;\n",
              "      fill: #D2E3FC;\n",
              "    }\n",
              "\n",
              "    [theme=dark] .colab-df-convert:hover {\n",
              "      background-color: #434B5C;\n",
              "      box-shadow: 0px 1px 3px 1px rgba(0, 0, 0, 0.15);\n",
              "      filter: drop-shadow(0px 1px 2px rgba(0, 0, 0, 0.3));\n",
              "      fill: #FFFFFF;\n",
              "    }\n",
              "  </style>\n",
              "\n",
              "      <script>\n",
              "        const buttonEl =\n",
              "          document.querySelector('#df-9190059c-b7fa-47f8-b342-566b4f30d00a button.colab-df-convert');\n",
              "        buttonEl.style.display =\n",
              "          google.colab.kernel.accessAllowed ? 'block' : 'none';\n",
              "\n",
              "        async function convertToInteractive(key) {\n",
              "          const element = document.querySelector('#df-9190059c-b7fa-47f8-b342-566b4f30d00a');\n",
              "          const dataTable =\n",
              "            await google.colab.kernel.invokeFunction('convertToInteractive',\n",
              "                                                     [key], {});\n",
              "          if (!dataTable) return;\n",
              "\n",
              "          const docLinkHtml = 'Like what you see? Visit the ' +\n",
              "            '<a target=\"_blank\" href=https://colab.research.google.com/notebooks/data_table.ipynb>data table notebook</a>'\n",
              "            + ' to learn more about interactive tables.';\n",
              "          element.innerHTML = '';\n",
              "          dataTable['output_type'] = 'display_data';\n",
              "          await google.colab.output.renderOutput(dataTable, element);\n",
              "          const docLink = document.createElement('div');\n",
              "          docLink.innerHTML = docLinkHtml;\n",
              "          element.appendChild(docLink);\n",
              "        }\n",
              "      </script>\n",
              "    </div>\n",
              "  </div>\n",
              "  "
            ]
          },
          "metadata": {},
          "execution_count": 14
        }
      ]
    },
    {
      "cell_type": "code",
      "execution_count": null,
      "id": "e4f5ae86",
      "metadata": {
        "id": "e4f5ae86",
        "outputId": "5cd0eddc-8faf-48d1-93a2-4ea11e922729",
        "colab": {
          "base_uri": "https://localhost:8080/"
        }
      },
      "outputs": [
        {
          "output_type": "execute_result",
          "data": {
            "text/plain": [
              "0    4150\n",
              "1    1896\n",
              "Name: spam, dtype: int64"
            ]
          },
          "metadata": {},
          "execution_count": 15
        }
      ],
      "source": [
        "df.spam.value_counts()"
      ]
    },
    {
      "cell_type": "code",
      "execution_count": null,
      "id": "6b665e00",
      "metadata": {
        "id": "6b665e00",
        "outputId": "9ff6799a-ecbe-4220-9ff5-ff2e292c7e73",
        "colab": {
          "base_uri": "https://localhost:8080/"
        }
      },
      "outputs": [
        {
          "output_type": "execute_result",
          "data": {
            "text/plain": [
              "(6046, 2)"
            ]
          },
          "metadata": {},
          "execution_count": 16
        }
      ],
      "source": [
        "df.shape"
      ]
    },
    {
      "cell_type": "code",
      "execution_count": null,
      "id": "0fdd3b0c",
      "metadata": {
        "scrolled": true,
        "id": "0fdd3b0c",
        "outputId": "7269f543-9cae-4fa5-d763-6723726bc100",
        "colab": {
          "base_uri": "https://localhost:8080/",
          "height": 206
        }
      },
      "outputs": [
        {
          "output_type": "execute_result",
          "data": {
            "text/plain": [
              "                                             Message  spam\n",
              "0  \\nSave up to 70% on Life Insurance.\\nWhy Spend...     1\n",
              "1  1) Fight The Risk of Cancer!\\nhttp://www.adcli...     1\n",
              "2  1) Fight The Risk of Cancer!\\nhttp://www.adcli...     1\n",
              "3  ##############################################...     1\n",
              "4  I thought you might like these:\\n1) Slim Down ...     1"
            ],
            "text/html": [
              "\n",
              "  <div id=\"df-ab0630fd-26b2-47da-b902-14869ce62e4d\">\n",
              "    <div class=\"colab-df-container\">\n",
              "      <div>\n",
              "<style scoped>\n",
              "    .dataframe tbody tr th:only-of-type {\n",
              "        vertical-align: middle;\n",
              "    }\n",
              "\n",
              "    .dataframe tbody tr th {\n",
              "        vertical-align: top;\n",
              "    }\n",
              "\n",
              "    .dataframe thead th {\n",
              "        text-align: right;\n",
              "    }\n",
              "</style>\n",
              "<table border=\"1\" class=\"dataframe\">\n",
              "  <thead>\n",
              "    <tr style=\"text-align: right;\">\n",
              "      <th></th>\n",
              "      <th>Message</th>\n",
              "      <th>spam</th>\n",
              "    </tr>\n",
              "  </thead>\n",
              "  <tbody>\n",
              "    <tr>\n",
              "      <th>0</th>\n",
              "      <td>\\nSave up to 70% on Life Insurance.\\nWhy Spend...</td>\n",
              "      <td>1</td>\n",
              "    </tr>\n",
              "    <tr>\n",
              "      <th>1</th>\n",
              "      <td>1) Fight The Risk of Cancer!\\nhttp://www.adcli...</td>\n",
              "      <td>1</td>\n",
              "    </tr>\n",
              "    <tr>\n",
              "      <th>2</th>\n",
              "      <td>1) Fight The Risk of Cancer!\\nhttp://www.adcli...</td>\n",
              "      <td>1</td>\n",
              "    </tr>\n",
              "    <tr>\n",
              "      <th>3</th>\n",
              "      <td>##############################################...</td>\n",
              "      <td>1</td>\n",
              "    </tr>\n",
              "    <tr>\n",
              "      <th>4</th>\n",
              "      <td>I thought you might like these:\\n1) Slim Down ...</td>\n",
              "      <td>1</td>\n",
              "    </tr>\n",
              "  </tbody>\n",
              "</table>\n",
              "</div>\n",
              "      <button class=\"colab-df-convert\" onclick=\"convertToInteractive('df-ab0630fd-26b2-47da-b902-14869ce62e4d')\"\n",
              "              title=\"Convert this dataframe to an interactive table.\"\n",
              "              style=\"display:none;\">\n",
              "        \n",
              "  <svg xmlns=\"http://www.w3.org/2000/svg\" height=\"24px\"viewBox=\"0 0 24 24\"\n",
              "       width=\"24px\">\n",
              "    <path d=\"M0 0h24v24H0V0z\" fill=\"none\"/>\n",
              "    <path d=\"M18.56 5.44l.94 2.06.94-2.06 2.06-.94-2.06-.94-.94-2.06-.94 2.06-2.06.94zm-11 1L8.5 8.5l.94-2.06 2.06-.94-2.06-.94L8.5 2.5l-.94 2.06-2.06.94zm10 10l.94 2.06.94-2.06 2.06-.94-2.06-.94-.94-2.06-.94 2.06-2.06.94z\"/><path d=\"M17.41 7.96l-1.37-1.37c-.4-.4-.92-.59-1.43-.59-.52 0-1.04.2-1.43.59L10.3 9.45l-7.72 7.72c-.78.78-.78 2.05 0 2.83L4 21.41c.39.39.9.59 1.41.59.51 0 1.02-.2 1.41-.59l7.78-7.78 2.81-2.81c.8-.78.8-2.07 0-2.86zM5.41 20L4 18.59l7.72-7.72 1.47 1.35L5.41 20z\"/>\n",
              "  </svg>\n",
              "      </button>\n",
              "      \n",
              "  <style>\n",
              "    .colab-df-container {\n",
              "      display:flex;\n",
              "      flex-wrap:wrap;\n",
              "      gap: 12px;\n",
              "    }\n",
              "\n",
              "    .colab-df-convert {\n",
              "      background-color: #E8F0FE;\n",
              "      border: none;\n",
              "      border-radius: 50%;\n",
              "      cursor: pointer;\n",
              "      display: none;\n",
              "      fill: #1967D2;\n",
              "      height: 32px;\n",
              "      padding: 0 0 0 0;\n",
              "      width: 32px;\n",
              "    }\n",
              "\n",
              "    .colab-df-convert:hover {\n",
              "      background-color: #E2EBFA;\n",
              "      box-shadow: 0px 1px 2px rgba(60, 64, 67, 0.3), 0px 1px 3px 1px rgba(60, 64, 67, 0.15);\n",
              "      fill: #174EA6;\n",
              "    }\n",
              "\n",
              "    [theme=dark] .colab-df-convert {\n",
              "      background-color: #3B4455;\n",
              "      fill: #D2E3FC;\n",
              "    }\n",
              "\n",
              "    [theme=dark] .colab-df-convert:hover {\n",
              "      background-color: #434B5C;\n",
              "      box-shadow: 0px 1px 3px 1px rgba(0, 0, 0, 0.15);\n",
              "      filter: drop-shadow(0px 1px 2px rgba(0, 0, 0, 0.3));\n",
              "      fill: #FFFFFF;\n",
              "    }\n",
              "  </style>\n",
              "\n",
              "      <script>\n",
              "        const buttonEl =\n",
              "          document.querySelector('#df-ab0630fd-26b2-47da-b902-14869ce62e4d button.colab-df-convert');\n",
              "        buttonEl.style.display =\n",
              "          google.colab.kernel.accessAllowed ? 'block' : 'none';\n",
              "\n",
              "        async function convertToInteractive(key) {\n",
              "          const element = document.querySelector('#df-ab0630fd-26b2-47da-b902-14869ce62e4d');\n",
              "          const dataTable =\n",
              "            await google.colab.kernel.invokeFunction('convertToInteractive',\n",
              "                                                     [key], {});\n",
              "          if (!dataTable) return;\n",
              "\n",
              "          const docLinkHtml = 'Like what you see? Visit the ' +\n",
              "            '<a target=\"_blank\" href=https://colab.research.google.com/notebooks/data_table.ipynb>data table notebook</a>'\n",
              "            + ' to learn more about interactive tables.';\n",
              "          element.innerHTML = '';\n",
              "          dataTable['output_type'] = 'display_data';\n",
              "          await google.colab.output.renderOutput(dataTable, element);\n",
              "          const docLink = document.createElement('div');\n",
              "          docLink.innerHTML = docLinkHtml;\n",
              "          element.appendChild(docLink);\n",
              "        }\n",
              "      </script>\n",
              "    </div>\n",
              "  </div>\n",
              "  "
            ]
          },
          "metadata": {},
          "execution_count": 17
        }
      ],
      "source": [
        "df.head()"
      ]
    },
    {
      "cell_type": "code",
      "source": [
        "df.isnull().sum()"
      ],
      "metadata": {
        "id": "vwhsGMxrzn6M",
        "outputId": "0bef0e1e-c7e7-4818-a880-aaa7d394e941",
        "colab": {
          "base_uri": "https://localhost:8080/"
        }
      },
      "id": "vwhsGMxrzn6M",
      "execution_count": null,
      "outputs": [
        {
          "output_type": "execute_result",
          "data": {
            "text/plain": [
              "Message    1\n",
              "spam       0\n",
              "dtype: int64"
            ]
          },
          "metadata": {},
          "execution_count": 18
        }
      ]
    },
    {
      "cell_type": "code",
      "source": [
        "df.dropna(inplace=True)"
      ],
      "metadata": {
        "id": "ekDN18tD0V98"
      },
      "id": "ekDN18tD0V98",
      "execution_count": null,
      "outputs": []
    },
    {
      "cell_type": "markdown",
      "id": "c14da82f",
      "metadata": {
        "id": "c14da82f"
      },
      "source": [
        "<h3>Train test split</h3>"
      ]
    },
    {
      "cell_type": "code",
      "execution_count": null,
      "id": "55c57d7e",
      "metadata": {
        "id": "55c57d7e"
      },
      "outputs": [],
      "source": [
        "from sklearn.model_selection import train_test_split\n",
        "\n",
        "X_train, X_test, y_train, y_test = train_test_split(df.Message, df.spam, test_size=0.2)"
      ]
    },
    {
      "cell_type": "code",
      "execution_count": null,
      "id": "0c434635",
      "metadata": {
        "id": "0c434635",
        "outputId": "19f8b854-006e-4daa-a7af-b40ede176904",
        "colab": {
          "base_uri": "https://localhost:8080/"
        }
      },
      "outputs": [
        {
          "output_type": "execute_result",
          "data": {
            "text/plain": [
              "(4836,)"
            ]
          },
          "metadata": {},
          "execution_count": 21
        }
      ],
      "source": [
        "X_train.shape"
      ]
    },
    {
      "cell_type": "code",
      "execution_count": null,
      "id": "0322e41b",
      "metadata": {
        "id": "0322e41b",
        "outputId": "e9f12061-5b04-49c7-f1b6-c72f4fafb3fb",
        "colab": {
          "base_uri": "https://localhost:8080/"
        }
      },
      "outputs": [
        {
          "output_type": "execute_result",
          "data": {
            "text/plain": [
              "(1209,)"
            ]
          },
          "metadata": {},
          "execution_count": 22
        }
      ],
      "source": [
        "X_test.shape"
      ]
    },
    {
      "cell_type": "code",
      "execution_count": null,
      "id": "2b8afdd0",
      "metadata": {
        "id": "2b8afdd0",
        "outputId": "7b24d662-55b0-4f93-ca0c-02a791cec534",
        "colab": {
          "base_uri": "https://localhost:8080/"
        }
      },
      "outputs": [
        {
          "output_type": "execute_result",
          "data": {
            "text/plain": [
              "pandas.core.series.Series"
            ]
          },
          "metadata": {},
          "execution_count": 23
        }
      ],
      "source": [
        "type(X_train)"
      ]
    },
    {
      "cell_type": "code",
      "execution_count": null,
      "id": "4c31562f",
      "metadata": {
        "id": "4c31562f",
        "outputId": "5c1909d1-29a9-4c9c-b38a-7b7c39420134",
        "colab": {
          "base_uri": "https://localhost:8080/"
        }
      },
      "outputs": [
        {
          "output_type": "execute_result",
          "data": {
            "text/plain": [
              "2216    right Mike,i will agree to disagree but i take...\n",
              "2126    Hi,some time now the following messages were h...\n",
              "2434    >>>>> \"G\" == Geege Schuman  writes:    G> ... ...\n",
              "2606    Clearly, it is US/NATO = Sun/IBM/OSS, USSR = M...\n",
              "Name: Message, dtype: object"
            ]
          },
          "metadata": {},
          "execution_count": 24
        }
      ],
      "source": [
        "X_train[:4]"
      ]
    },
    {
      "cell_type": "code",
      "execution_count": null,
      "id": "425d18a6",
      "metadata": {
        "id": "425d18a6",
        "outputId": "7c950d9b-77ee-4d8f-a199-dac96ead29d9",
        "colab": {
          "base_uri": "https://localhost:8080/"
        }
      },
      "outputs": [
        {
          "output_type": "execute_result",
          "data": {
            "text/plain": [
              "pandas.core.series.Series"
            ]
          },
          "metadata": {},
          "execution_count": 25
        }
      ],
      "source": [
        "type(y_train)"
      ]
    },
    {
      "cell_type": "code",
      "execution_count": null,
      "id": "0a441180",
      "metadata": {
        "id": "0a441180",
        "outputId": "1371a847-073c-490e-d6af-5f8fd07b998b",
        "colab": {
          "base_uri": "https://localhost:8080/"
        }
      },
      "outputs": [
        {
          "output_type": "execute_result",
          "data": {
            "text/plain": [
              "2216    0\n",
              "2126    0\n",
              "2434    0\n",
              "2606    0\n",
              "Name: spam, dtype: int64"
            ]
          },
          "metadata": {},
          "execution_count": 26
        }
      ],
      "source": [
        "y_train[:4]"
      ]
    },
    {
      "cell_type": "code",
      "execution_count": null,
      "id": "0144b67b",
      "metadata": {
        "scrolled": true,
        "id": "0144b67b",
        "outputId": "4aefae66-5264-4e55-ca24-28fd67b11ef2",
        "colab": {
          "base_uri": "https://localhost:8080/"
        }
      },
      "outputs": [
        {
          "output_type": "execute_result",
          "data": {
            "text/plain": [
              "numpy.ndarray"
            ]
          },
          "metadata": {},
          "execution_count": 27
        }
      ],
      "source": [
        "type(X_train.values)"
      ]
    },
    {
      "cell_type": "code",
      "source": [
        "X_train.head()"
      ],
      "metadata": {
        "id": "f-gU7ggY1Dyd",
        "outputId": "7ba41bab-2adc-4f19-ff92-5c2f432444ba",
        "colab": {
          "base_uri": "https://localhost:8080/"
        }
      },
      "id": "f-gU7ggY1Dyd",
      "execution_count": null,
      "outputs": [
        {
          "output_type": "execute_result",
          "data": {
            "text/plain": [
              "2216    right Mike,i will agree to disagree but i take...\n",
              "2126    Hi,some time now the following messages were h...\n",
              "2434    >>>>> \"G\" == Geege Schuman  writes:    G> ... ...\n",
              "2606    Clearly, it is US/NATO = Sun/IBM/OSS, USSR = M...\n",
              "3910    URL: http://boingboing.net/#85497383\\nDate: No...\n",
              "Name: Message, dtype: object"
            ]
          },
          "metadata": {},
          "execution_count": 28
        }
      ]
    },
    {
      "cell_type": "markdown",
      "id": "b7d2c01f",
      "metadata": {
        "id": "b7d2c01f"
      },
      "source": [
        "<h3>Create bag of words representation using CountVectorizer</h3>"
      ]
    },
    {
      "cell_type": "code",
      "execution_count": null,
      "id": "41a212bd",
      "metadata": {
        "id": "41a212bd",
        "outputId": "75801b4c-b5fc-45d9-a4d6-45996665e795",
        "colab": {
          "base_uri": "https://localhost:8080/"
        }
      },
      "outputs": [
        {
          "output_type": "execute_result",
          "data": {
            "text/plain": [
              "<4836x53724 sparse matrix of type '<class 'numpy.int64'>'\n",
              "\twith 648953 stored elements in Compressed Sparse Row format>"
            ]
          },
          "metadata": {},
          "execution_count": 29
        }
      ],
      "source": [
        "from sklearn.feature_extraction.text import CountVectorizer\n",
        "\n",
        "v = CountVectorizer()\n",
        "\n",
        "X_train_cv = v.fit_transform(X_train.values)\n",
        "X_train_cv"
      ]
    },
    {
      "cell_type": "code",
      "execution_count": null,
      "id": "30a01ec3",
      "metadata": {
        "id": "30a01ec3",
        "outputId": "f0c3da0f-726e-483e-ad97-4e1d65d70b1a",
        "colab": {
          "base_uri": "https://localhost:8080/"
        }
      },
      "outputs": [
        {
          "output_type": "execute_result",
          "data": {
            "text/plain": [
              "array([0, 0, 0, ..., 0, 0, 0])"
            ]
          },
          "metadata": {},
          "execution_count": 30
        }
      ],
      "source": [
        "X_train_cv.toarray()[:2][0]"
      ]
    },
    {
      "cell_type": "code",
      "execution_count": null,
      "id": "e3846715",
      "metadata": {
        "id": "e3846715",
        "outputId": "b51cfae7-be08-4b16-dce0-ddbd32e35aa3",
        "colab": {
          "base_uri": "https://localhost:8080/"
        }
      },
      "outputs": [
        {
          "output_type": "execute_result",
          "data": {
            "text/plain": [
              "(4836, 53724)"
            ]
          },
          "metadata": {},
          "execution_count": 31
        }
      ],
      "source": [
        "X_train_cv.shape"
      ]
    },
    {
      "cell_type": "code",
      "execution_count": null,
      "id": "12f55cc1",
      "metadata": {
        "id": "12f55cc1",
        "outputId": "662d7d6a-a5cc-49c5-8748-f20a23d3d9c4",
        "colab": {
          "base_uri": "https://localhost:8080/",
          "height": 36
        }
      },
      "outputs": [
        {
          "output_type": "execute_result",
          "data": {
            "text/plain": [
              "'194'"
            ],
            "application/vnd.google.colaboratory.intrinsic+json": {
              "type": "string"
            }
          },
          "metadata": {},
          "execution_count": 32
        }
      ],
      "source": [
        "v.get_feature_names_out()[1771]"
      ]
    },
    {
      "cell_type": "code",
      "execution_count": null,
      "id": "7ed0a094",
      "metadata": {
        "id": "7ed0a094",
        "colab": {
          "base_uri": "https://localhost:8080/"
        },
        "outputId": "7f944b21-d3ba-4793-d992-6655b8f75418"
      },
      "outputs": [
        {
          "output_type": "execute_result",
          "data": {
            "text/plain": [
              "{'right': 41066,\n",
              " 'mike': 31926,\n",
              " 'will': 51505,\n",
              " 'agree': 7599,\n",
              " 'to': 47912,\n",
              " 'disagree': 17319,\n",
              " 'but': 11880,\n",
              " 'take': 46720,\n",
              " 'your': 52466,\n",
              " 'comments': 14084,\n",
              " 'heart': 24503,\n",
              " 'my': 33092,\n",
              " 'opinion': 35049,\n",
              " 'is': 27442,\n",
              " 'only': 34926,\n",
              " 'that': 47347,\n",
              " 'this': 47529,\n",
              " 'one': 34899,\n",
              " 'of': 34693,\n",
              " 'the': 47358,\n",
              " 'last': 29196,\n",
              " 'frontiers': 22149,\n",
              " 'communications': 14138,\n",
              " 'instant': 26879,\n",
              " 'show': 43312,\n",
              " 'we': 51022,\n",
              " 'cross': 15475,\n",
              " 'easily': 18563,\n",
              " 'though': 47568,\n",
              " 'you': 52453,\n",
              " 'are': 8757,\n",
              " 'as': 8957,\n",
              " 'rain': 39293,\n",
              " 'on': 34893,\n",
              " 'pricing': 38069,\n",
              " 'am': 7990,\n",
              " 'mildly': 31937,\n",
              " 'amused': 8117,\n",
              " 'at': 9170,\n",
              " 'level': 29565,\n",
              " 'skepticism': 43746,\n",
              " 'and': 8186,\n",
              " 'innatention': 26748,\n",
              " 'it': 27573,\n",
              " 'getting': 22865,\n",
              " 'premise': 37905,\n",
              " 'world': 51859,\n",
              " 'change': 12918,\n",
              " 'in': 26241,\n",
              " 'dramatic': 18120,\n",
              " 'unexpected': 49270,\n",
              " 'ways': 51001,\n",
              " 'once': 34895,\n",
              " 'there': 47441,\n",
              " 'billion': 10592,\n",
              " 'eye': 20450,\n",
              " 'which': 51344,\n",
              " 'can': 12225,\n",
              " 'instantly': 26881,\n",
              " 'share': 43081,\n",
              " 'what': 51301,\n",
              " 'they': 47480,\n",
              " 'see': 42594,\n",
              " 'amongst': 8080,\n",
              " 'each': 18520,\n",
              " 'other': 35349,\n",
              " 'doesn': 17797,\n",
              " 'mean': 31435,\n",
              " 'people': 36429,\n",
              " 'stop': 45391,\n",
              " 'talking': 46752,\n",
              " 'their': 47394,\n",
              " 'phones': 36760,\n",
              " 'or': 35141,\n",
              " 'spend': 44702,\n",
              " 'more': 32575,\n",
              " 'time': 47744,\n",
              " 'images': 26051,\n",
              " 'than': 47335,\n",
              " 'voice': 50572,\n",
              " 'just': 28230,\n",
              " 'fundamental': 22281,\n",
              " 'from': 22133,\n",
              " 'news': 33759,\n",
              " 'crime': 15403,\n",
              " 'privacy': 38153,\n",
              " 'dating': 16061,\n",
              " 'family': 20658,\n",
              " 'life': 29719,\n",
              " 'bloopers': 10905,\n",
              " 'practical': 37732,\n",
              " 'jokes': 28039,\n",
              " 'believe': 10296,\n",
              " 'be': 10111,\n",
              " 'an': 8125,\n",
              " 'explosion': 20318,\n",
              " 'unleashed': 49417,\n",
              " 'specifically': 44637,\n",
              " 'by': 11928,\n",
              " 'cell': 12754,\n",
              " 'phone': 36750,\n",
              " 'integrated': 26941,\n",
              " 'lenses': 29506,\n",
              " 'because': 10168,\n",
              " 'utter': 49887,\n",
              " 'ubiquity': 48906,\n",
              " 'dwarfs': 18431,\n",
              " 'all': 7844,\n",
              " 'pictures': 36883,\n",
              " 'taken': 46725,\n",
              " 'history': 24934,\n",
              " 'photography': 36783,\n",
              " 'orders': 35178,\n",
              " 'magnitude': 30690,\n",
              " 'short': 43270,\n",
              " 'order': 35170,\n",
              " 'yes': 52393,\n",
              " 'changes': 12927,\n",
              " 'things': 47502,\n",
              " 'big': 10544,\n",
              " 'rgds': 40960,\n",
              " 'rob': 41197,\n",
              " 'original': 35254,\n",
              " 'message': 31684,\n",
              " 'masnick': 31158,\n",
              " 'mailto': 30780,\n",
              " 'techdirt': 46965,\n",
              " 'com': 13974,\n",
              " 'sent': 42759,\n",
              " 'tuesday': 48691,\n",
              " 'august': 9368,\n",
              " '20': 1938,\n",
              " '2002': 1968,\n",
              " '11': 977,\n",
              " '58': 4489,\n",
              " 'pm': 37267,\n",
              " 'shavell': 43116,\n",
              " 'cc': 12651,\n",
              " 'fork': 21720,\n",
              " 'spamassassin': 44511,\n",
              " 'taint': 46713,\n",
              " 'org': 35195,\n",
              " 'subject': 45704,\n",
              " 're': 39519,\n",
              " 'sprint': 44859,\n",
              " 'delivers': 16547,\n",
              " 'next': 33836,\n",
              " 'thing': 47499,\n",
              " 'not': 34215,\n",
              " 'keep': 28442,\n",
              " 'harping': 24273,\n",
              " '36': 3440,\n",
              " '02': 327,\n",
              " '0700': 569,\n",
              " 'wrote': 51978,\n",
              " 'content': 14780,\n",
              " 'who': 51408,\n",
              " 'cares': 12398,\n",
              " 'about': 6839,\n",
              " 'no': 34026,\n",
              " 'think': 47505,\n",
              " 'useful': 49781,\n",
              " 'always': 7987,\n",
              " 'business': 11850,\n",
              " 'persons': 36589,\n",
              " 'mistake': 32182,\n",
              " 'users': 49810,\n",
              " 'its': 27613,\n",
              " 'anything': 8465,\n",
              " 'everything': 19982,\n",
              " 'avg': 9539,\n",
              " 'person': 36571,\n",
              " 'could': 15112,\n",
              " 'send': 42719,\n",
              " 'half': 24060,\n",
              " 'dozen': 18066,\n",
              " 'pics': 36875,\n",
              " 'day': 16098,\n",
              " 'mainly': 30799,\n",
              " 'humorous': 25587,\n",
              " 'guess': 23866,\n",
              " 'if': 25922,\n",
              " 'trivial': 48557,\n",
              " 'nature': 33347,\n",
              " 'picture': 36881,\n",
              " 'speaks': 44606,\n",
              " 'thousand': 47573,\n",
              " 'words': 51814,\n",
              " 'does': 17793,\n",
              " 'nothing': 34241,\n",
              " 'answer': 8352,\n",
              " 'question': 39065,\n",
              " 'do': 17736,\n",
              " 'care': 12385,\n",
              " 'hell': 24592,\n",
              " 'convinced': 14909,\n",
              " 'would': 51908,\n",
              " 'stupid': 45655,\n",
              " 'back': 9700,\n",
              " 'forth': 21788,\n",
              " 'have': 24368,\n",
              " 'different': 17121,\n",
              " 'while': 51348,\n",
              " 'may': 31296,\n",
              " 'worth': 51900,\n",
              " 'same': 41861,\n",
              " 'argument': 8788,\n",
              " 'guy': 23923,\n",
              " 'works': 51848,\n",
              " 'for': 21630,\n",
              " 'me': 31427,\n",
              " 'made': 30642,\n",
              " 'how': 25317,\n",
              " 'many': 30995,\n",
              " 'know': 28759,\n",
              " 'communicate': 14132,\n",
              " 'sure': 46186,\n",
              " 'sounds': 44418,\n",
              " 'nice': 33871,\n",
              " 'say': 42051,\n",
              " 'such': 45838,\n",
              " 'efficient': 18807,\n",
              " 'messaging': 31694,\n",
              " 'mechanism': 31467,\n",
              " 'often': 34763,\n",
              " 'actually': 7156,\n",
              " 'find': 21191,\n",
              " 'yourself': 52482,\n",
              " 'drawing': 18138,\n",
              " 'someone': 44322,\n",
              " 'explain': 20289,\n",
              " 'something': 44332,\n",
              " 'don': 17889,\n",
              " 'buy': 11904,\n",
              " 'most': 32655,\n",
              " 'messages': 31692,\n",
              " 'text': 47276,\n",
              " 'fine': 21201,\n",
              " 'some': 44313,\n",
              " 'job': 27973,\n",
              " 'nearly': 33440,\n",
              " 'why': 51443,\n",
              " 'pictionary': 36876,\n",
              " 'charades': 12969,\n",
              " 'games': 22476,\n",
              " 'usually': 49841,\n",
              " 'way': 50994,\n",
              " 'get': 22832,\n",
              " 'across': 7105,\n",
              " 'misc': 32119,\n",
              " 'ramblings': 39333,\n",
              " 'suppose': 46166,\n",
              " 'skeptical': 43745,\n",
              " 'forkers': 21725,\n",
              " 'said': 41789,\n",
              " 'hour': 25298,\n",
              " 'photo': 36769,\n",
              " 'processing': 38220,\n",
              " 'needs': 33469,\n",
              " 'better': 10470,\n",
              " 'resultion': 40759,\n",
              " 'elswhere': 19054,\n",
              " 'yet': 52401,\n",
              " 'had': 24019,\n",
              " 'great': 23625,\n",
              " 'decentralizing': 16286,\n",
              " 'impact': 26130,\n",
              " 'plant': 37118,\n",
              " 'downsized': 18052,\n",
              " 'pushed': 38811,\n",
              " 'retail': 40775,\n",
              " 'operation': 35036,\n",
              " 'digital': 17162,\n",
              " 'camera': 12191,\n",
              " 'finally': 21177,\n",
              " 'brings': 11489,\n",
              " 'cycle': 15801,\n",
              " 'decentralization': 16284,\n",
              " 'logical': 30191,\n",
              " 'conclusion': 14416,\n",
              " 'put': 38820,\n",
              " 'giants': 22916,\n",
              " 'bed': 10181,\n",
              " 'meaningful': 31438,\n",
              " 'also': 7948,\n",
              " 'sms': 44068,\n",
              " 'didn': 17085,\n",
              " 'off': 34697,\n",
              " 'easy': 18574,\n",
              " 'took': 48044,\n",
              " 'costs': 15094,\n",
              " 'less': 29533,\n",
              " 'greatly': 23631,\n",
              " 'ironic': 27408,\n",
              " 'carriers': 12446,\n",
              " 'trumpet': 48619,\n",
              " 'profitabilty': 38313,\n",
              " 'traffic': 48274,\n",
              " 'over': 35491,\n",
              " 'others': 35357,\n",
              " 'ratio': 39444,\n",
              " 'cost': 15088,\n",
              " 'bandwidth': 9859,\n",
              " 'reality': 39582,\n",
              " 'cannibilizes': 12269,\n",
              " 'rev': 40849,\n",
              " 'bought': 11225,\n",
              " 'networks': 33682,\n",
              " 'handle': 24142,\n",
              " 'again': 7544,\n",
              " 'colleague': 13894,\n",
              " 'along': 7915,\n",
              " 'with': 51679,\n",
              " 'understand': 49206,\n",
              " 'kids': 28599,\n",
              " 'today': 47933,\n",
              " 'll': 30058,\n",
              " 'run': 41587,\n",
              " 'wasn': 50943,\n",
              " 'saying': 42061,\n",
              " 'mms': 32271,\n",
              " 'wouldn': 51909,\n",
              " 'high': 24822,\n",
              " 'quality': 39008,\n",
              " 'was': 50929,\n",
              " 'couldn': 15113,\n",
              " 'use': 49770,\n",
              " 'changed': 12920,\n",
              " 'face': 20536,\n",
              " 'looking': 30244,\n",
              " 'compelling': 14199,\n",
              " 'reason': 39619,\n",
              " 'even': 19948,\n",
              " 'want': 50854,\n",
              " 'integrate': 26940,\n",
              " 'cameras': 12193,\n",
              " 'into': 27153,\n",
              " 'improves': 26233,\n",
              " 'marginally': 31036,\n",
              " 'certainly': 12826,\n",
              " 'taking': 46732,\n",
              " 'occasionally': 34601,\n",
              " 'sending': 42729,\n",
              " 'them': 47402,\n",
              " 'mostly': 32657,\n",
              " 'benefit': 10351,\n",
              " 'email': 19073,\n",
              " 'address': 7224,\n",
              " 'putting': 38829,\n",
              " 'together': 47950,\n",
              " 'online': 34917,\n",
              " 'offline': 34738,\n",
              " 'photoalbum': 36772,\n",
              " 'photos': 36788,\n",
              " 'own': 35622,\n",
              " 'away': 9593,\n",
              " 'plenty': 37197,\n",
              " 'good': 23381,\n",
              " 'enough': 19429,\n",
              " 'snapshots': 44096,\n",
              " 'main': 30790,\n",
              " 'reasons': 39627,\n",
              " 'catching': 12563,\n",
              " 'view': 50361,\n",
              " 'part': 36017,\n",
              " 'guessing': 23870,\n",
              " 'service': 42879,\n",
              " 'offers': 34722,\n",
              " 'like': 29767,\n",
              " 'package': 35710,\n",
              " 'fancy': 20673,\n",
              " 'albums': 7773,\n",
              " 'sit': 43671,\n",
              " 'force': 21643,\n",
              " 'go': 23306,\n",
              " 'through': 47615,\n",
              " 'every': 19972,\n",
              " 'occasion': 34599,\n",
              " 'still': 45305,\n",
              " 'becomes': 10177,\n",
              " 'integral': 26939,\n",
              " 'method': 31744,\n",
              " 'specific': 44636,\n",
              " 'immediately': 26100,\n",
              " 'another': 8340,\n",
              " 'has': 24304,\n",
              " 'silly': 43527,\n",
              " 'going': 23344,\n",
              " 'flock': 21452,\n",
              " 'searching': 42467,\n",
              " 'given': 22999,\n",
              " 'straight': 45465,\n",
              " 'really': 39593,\n",
              " 'intriguing': 27177,\n",
              " 'idea': 25845,\n",
              " 've': 50108,\n",
              " 'heard': 24498,\n",
              " 'lately': 29209,\n",
              " 'dan': 15944,\n",
              " 'gillmor': 22953,\n",
              " 'assertion': 9066,\n",
              " 'near': 33435,\n",
              " 'future': 22337,\n",
              " 'event': 19955,\n",
              " 'happen': 24190,\n",
              " 'bunch': 11764,\n",
              " 'snap': 44090,\n",
              " 'mobile': 32289,\n",
              " 'angles': 8255,\n",
              " 'those': 47564,\n",
              " 'tell': 47100,\n",
              " 'real': 39568,\n",
              " 'story': 45433,\n",
              " 'happened': 24191,\n",
              " 'before': 10216,\n",
              " 'press': 37978,\n",
              " 'gets': 22859,\n",
              " 'willing': 51520,\n",
              " 'proven': 38567,\n",
              " 'wrong': 51974,\n",
              " 'mikeps': 31930,\n",
              " 'wireless': 51650,\n",
              " 'continue': 14809,\n",
              " 'price': 38043,\n",
              " 'these': 47466,\n",
              " 'services': 42883,\n",
              " 'stupidly': 45659,\n",
              " 'currently': 15671,\n",
              " 'then': 47413,\n",
              " 'never': 33716,\n",
              " 'catch': 12560,\n",
              " 'http': 25507,\n",
              " 'xent': 52138,\n",
              " 'mailman': 30763,\n",
              " 'listinfo': 29977,\n",
              " 'hi': 24798,\n",
              " 'now': 34295,\n",
              " 'following': 21578,\n",
              " 'were': 51260,\n",
              " 'haunting': 24360,\n",
              " 'automount': 9477,\n",
              " '11593': 1033,\n",
              " 'attempting': 9263,\n",
              " 'mount': 32705,\n",
              " 'entry': 19530,\n",
              " 'home': 25071,\n",
              " 'dudeit': 18305,\n",
              " 'came': 12184,\n",
              " 'attention': 9276,\n",
              " 'freshrpm': 22068,\n",
              " 'benefitting': 10356,\n",
              " 'hosts': 25264,\n",
              " 'showed': 43323,\n",
              " 'up': 49625,\n",
              " 'grepped': 23682,\n",
              " 'binaries': 10608,\n",
              " 'found': 21832,\n",
              " 'referrences': 39933,\n",
              " 'dude': 18303,\n",
              " 'grep': 23681,\n",
              " 'usr': 49834,\n",
              " 'bin': 10607,\n",
              " 'binary': 10610,\n",
              " 'file': 21109,\n",
              " 'aaxine': 6758,\n",
              " 'matches': 31195,\n",
              " 'gentoo': 22760,\n",
              " 'gphoto2': 23501,\n",
              " 'gtkam': 23823,\n",
              " 'relaxed': 40195,\n",
              " 'pass': 36079,\n",
              " 'info': 26567,\n",
              " 'probably': 38189,\n",
              " 'matthias': 31237,\n",
              " 'saou': 41943,\n",
              " 'himself': 24873,\n",
              " 'hardwired': 24243,\n",
              " 'path': 36149,\n",
              " 'his': 24918,\n",
              " 'build': 11701,\n",
              " 'directory': 17282,\n",
              " 'out': 35385,\n",
              " 'fix': 21318,\n",
              " 'using': 49824,\n",
              " 'too': 48042,\n",
              " 'suite': 45896,\n",
              " 'narrow': 33281,\n",
              " 'down': 18019,\n",
              " 'regards': 40010,\n",
              " 'axel': 9621,\n",
              " 'thimm': 47496,\n",
              " 'physik': 36832,\n",
              " 'fu': 22226,\n",
              " 'berlin': 10399,\n",
              " 'de_______________________________________________': 16180,\n",
              " 'rpm': 41438,\n",
              " 'list': 29943,\n",
              " 'mailing': 30752,\n",
              " 'lists': 29989,\n",
              " 'freshrpms': 22069,\n",
              " 'net': 33574,\n",
              " 'geege': 22660,\n",
              " 'schuman': 42227,\n",
              " 'writes': 51967,\n",
              " 'neurochemical': 33702,\n",
              " 'process': 38214,\n",
              " 'initiated': 26702,\n",
              " 'during': 18388,\n",
              " 'dream': 18147,\n",
              " 'cycling': 15806,\n",
              " 'thru': 47624,\n",
              " 'deja': 16492,\n",
              " 'vu': 50702,\n",
              " 'triggered': 48509,\n",
              " 'memory': 31588,\n",
              " 'processes': 38217,\n",
              " 'where': 51333,\n",
              " 'remember': 40293,\n",
              " 'feel': 20899,\n",
              " 'remembering': 40295,\n",
              " 'very': 50263,\n",
              " 'perceptive': 36451,\n",
              " 'so': 44167,\n",
              " 'accept': 6951,\n",
              " 'personal': 36573,\n",
              " 'skewed': 43753,\n",
              " 'neuro': 33701,\n",
              " 'physiology': 36836,\n",
              " 'popular': 37472,\n",
              " 'con': 14372,\n",
              " 'exist': 20183,\n",
              " 'exploiting': 20307,\n",
              " 'perceptions': 36450,\n",
              " 'states': 45148,\n",
              " 'oft': 34761,\n",
              " 'exploited': 20306,\n",
              " 'plausibility': 37144,\n",
              " 'brain': 11314,\n",
              " 'pretty': 38014,\n",
              " 'darn': 16000,\n",
              " 'analog': 8140,\n",
              " 'associative': 9112,\n",
              " 'computer': 14335,\n",
              " 'events': 19958,\n",
              " 'associated': 9104,\n",
              " 'themselves': 47412,\n",
              " 'inner': 26750,\n",
              " 'external': 20385,\n",
              " 'cue': 15600,\n",
              " 'mentally': 31617,\n",
              " '_recreate_': 6614,\n",
              " 'state': 45137,\n",
              " 'perception': 36449,\n",
              " 'predictable': 37834,\n",
              " 'tone': 48021,\n",
              " 'striking': 45561,\n",
              " 'bell': 10306,\n",
              " 'gary': 22545,\n",
              " 'lawrence': 29288,\n",
              " 'murphy': 33023,\n",
              " 'teledynamics': 47064,\n",
              " 'inc': 26277,\n",
              " 'advantage': 7382,\n",
              " 'community': 14147,\n",
              " 'software': 44235,\n",
              " 'www': 52034,\n",
              " 'teledyn': 47063,\n",
              " 'computers': 14339,\n",
              " 'useless': 49785,\n",
              " 'give': 22995,\n",
              " 'answers': 8355,\n",
              " 'pablo': 35696,\n",
              " 'picasso': 36843,\n",
              " 'clearly': 13546,\n",
              " 'us': 49725,\n",
              " 'nato': 33342,\n",
              " 'sun': 45938,\n",
              " 'ibm': 25769,\n",
              " 'oss': 35325,\n",
              " 'ussr': 49839,\n",
              " 'ms': 32821,\n",
              " 'our': 35378,\n",
              " 'year': 52364,\n",
              " 'plan': 37096,\n",
              " 'sdwtom': 42436,\n",
              " 'im': 26041,\n",
              " 'feeling': 20901,\n",
              " 'bit': 10688,\n",
              " 'farklempt': 20709,\n",
              " 'having': 24384,\n",
              " 'spent': 44706,\n",
              " 'night': 33914,\n",
              " 'todais': 47932,\n",
              " 'talk': 46746,\n",
              " 'here': 24674,\n",
              " 'ill': 26005,\n",
              " 'topic': 48072,\n",
              " 'current': 15664,\n",
              " 'thought': 47569,\n",
              " 'terms': 47198,\n",
              " 'cold': 13863,\n",
              " 'war': 50862,\n",
              " 'uusr': 49897,\n",
              " 'being': 10270,\n",
              " 'matter': 31231,\n",
              " 'side': 43428,\n",
              " 'apple': 8567,\n",
              " 'cuba': 15592,\n",
              " 'legal': 29437,\n",
              " 'system': 46522,\n",
              " 'un': 49034,\n",
              " 'discuss': 17423,\n",
              " 'sdw': 42434,\n",
              " 'lig': 29741,\n",
              " 'st': 44980,\n",
              " 'stephen': 45244,\n",
              " 'williams': 51516,\n",
              " '43392': 3848,\n",
              " 'wayside': 51002,\n",
              " 'cir': 13358,\n",
              " 'ashburn': 8997,\n",
              " 'va': 49947,\n",
              " '20147': 2118,\n",
              " '4622': 3944,\n",
              " '703': 5011,\n",
              " '724': 5075,\n",
              " '0118w': 276,\n",
              " '995': 6245,\n",
              " '0407fax': 461,\n",
              " 'dec2001': 16261,\n",
              " 'url': 49717,\n",
              " 'boingboing': 11030,\n",
              " '85497383': 5661,\n",
              " 'date': 16043,\n",
              " 'suppliedthis': 46135,\n",
              " 'headline': 24468,\n",
              " 'month': 32522,\n",
              " 'possibly': 37587,\n",
              " 'doctors': 17765,\n",
              " 'grow': 23768,\n",
              " 'pig': 36901,\n",
              " 'teeth': 47042,\n",
              " 'rat': 39425,\n",
              " 'intestines': 27138,\n",
              " 'need': 33461,\n",
              " 'read': 39539,\n",
              " 'freaking': 21953,\n",
              " '_haiku_': 6543,\n",
              " 'singularity': 43639,\n",
              " 'shocky': 43240,\n",
              " 'wonderment': 51777,\n",
              " 'thursday': 47644,\n",
              " 'managed': 30893,\n",
              " 'living': 30048,\n",
              " 'rats': 39451,\n",
              " 'feat': 20857,\n",
              " 'biotechnology': 10650,\n",
              " 'experts': 20282,\n",
              " 'spark': 44579,\n",
              " 'dental': 16653,\n",
              " 'revolution': 40917,\n",
              " 'researchers': 40595,\n",
              " 'boston': 11194,\n",
              " 'forsyth': 21781,\n",
              " 'institute': 26889,\n",
              " 'successful': 45821,\n",
              " 'experiment': 20271,\n",
              " 'suggests': 45881,\n",
              " 'existence': 20186,\n",
              " 'stem': 45237,\n",
              " 'cells': 12760,\n",
              " 'allow': 7885,\n",
              " 'replace': 40454,\n",
              " 'lost': 30309,\n",
              " 'tooth': 48059,\n",
              " 'identical': 25860,\n",
              " 'grown': 23773,\n",
              " 'her': 24651,\n",
              " 'ability': 6800,\n",
              " 'identify': 25870,\n",
              " 'isolate': 27527,\n",
              " 'propagate': 38448,\n",
              " 'biological': 10633,\n",
              " 'replacement': 40456,\n",
              " 'therapy': 47439,\n",
              " 'potential': 37644,\n",
              " 'revolutionize': 40920,\n",
              " 'dentistry': 16656,\n",
              " 'dominick': 17882,\n",
              " 'depaola': 16664,\n",
              " 'president': 37966,\n",
              " 'ceo': 12807,\n",
              " 'focuses': 21540,\n",
              " 'oral': 35145,\n",
              " 'facial': 20543,\n",
              " 'science': 42241,\n",
              " 'link': 29859,\n",
              " '_thanks': 6636,\n",
              " 'dave': 16073,\n",
              " 'yahoo': 52302,\n",
              " 'tmpl': 47901,\n",
              " 'ncid': 33406,\n",
              " '585': 4498,\n",
              " 'cid': 13329,\n",
              " 'nm': 34002,\n",
              " '20020926': 2019,\n",
              " 'sc_nm': 42081,\n",
              " 'health_teeth_dc': 24489,\n",
              " 'quicktopic': 39097,\n",
              " 'boing': 11029,\n",
              " '88cus6cumjix': 5901,\n",
              " 'remtullaeurorscg': 40361,\n",
              " 'otc': 35344,\n",
              " 'ä¼šæ': 53276,\n",
              " 'šä': 53644,\n",
              " 'ªã': 52756,\n",
              " 'šã': 53642,\n",
              " '¾ã': 53176,\n",
              " 'åœ': 53295,\n",
              " 'ãƒ³ã': 53242,\n",
              " 'ãƒ': 53234,\n",
              " 'ãƒªãƒ³ã': 53237,\n",
              " 'livelinkãƒ': 30038,\n",
              " '¾åœ': 53179,\n",
              " 'åžÿå': 53301,\n",
              " 'œç': 53612,\n",
              " '¹å': 52805,\n",
              " 'ÿã': 53485,\n",
              " 'æƒ': 53320,\n",
              " 'ƒé': 53693,\n",
              " 'œã': 53597,\n",
              " 'åˆ': 53304,\n",
              " 'šåˆ': 53652,\n",
              " 'unix': 49400,\n",
              " 'ºèª': 52829,\n",
              " '¹ãƒ': 52800,\n",
              " 'ãƒ¼ã': 53249,\n",
              " '¹ã': 52799,\n",
              " 'æÿ': 53311,\n",
              " 'ÿèƒ½ãƒ': 53497,\n",
              " 'ãƒ¼ãƒ': 53250,\n",
              " 'ˆã': 53696,\n",
              " 'caã': 12633,\n",
              " 'ˆä': 53697,\n",
              " 'ÿå': 53489,\n",
              " 'livelinkã': 30037,\n",
              " 'ä½': 53278,\n",
              " 'ƒã': 53687,\n",
              " 'æž': 53318,\n",
              " 'šçÿ': 53658,\n",
              " 'microsoft': 31873,\n",
              " 'japan': 27762,\n",
              " 'support': 46154,\n",
              " 'kb': 28403,\n",
              " 'articles': 8919,\n",
              " 'jp294': 28104,\n",
              " '80': 5324,\n",
              " 'htm': 25362,\n",
              " 'jp283': 28103,\n",
              " '13': 1196,\n",
              " 'ln': 30078,\n",
              " 'ja': 27679,\n",
              " 'sd': 42416,\n",
              " 'fr': 21880,\n",
              " '0ãƒ': 786,\n",
              " 'œä': 53599,\n",
              " 'ºã': 52819,\n",
              " 'åš': 53299,\n",
              " 'šé': 53663,\n",
              " 'ãƒžãƒ³è²': 53255,\n",
              " '²ï¼ˆæ': 52774,\n",
              " 'ªï¼': 52766,\n",
              " 'ä¼šè': 53277,\n",
              " 'ç¾': 53328,\n",
              " 'ticket': 47671,\n",
              " '55606otc1': 4388,\n",
              " 'tue': 48689,\n",
              " '30': 3132,\n",
              " 'oct': 34644,\n",
              " '2001': 1951,\n",
              " '44': 3868,\n",
              " '43': 3834,\n",
              " '0500': 500,\n",
              " 'hitoshi': 24950,\n",
              " 'ito': 27608,\n",
              " 'reply': 40474,\n",
              " 'oh': 34778,\n",
              " 'opentextã': 35021,\n",
              " 'è³ªå': 53339,\n",
              " 'ãƒƒãƒˆç': 53258,\n",
              " 'ªå': 52760,\n",
              " 'šæ': 53653,\n",
              " 'µãƒ': 52784,\n",
              " 'ãƒ¼ãƒˆã': 53251,\n",
              " 'ãƒžãƒ': 53254,\n",
              " 'ä¾': 53281,\n",
              " 'žã': 53672,\n",
              " 'ä½œã': 53279,\n",
              " 'ÿéš': 53499,\n",
              " 'šå': 53646,\n",
              " '0ã': 785,\n",
              " 'ï¼ˆå': 53480,\n",
              " 'œãƒ': 53598,\n",
              " 'ï¼': 53451,\n",
              " 'œåžÿå': 53604,\n",
              " 'ï¼ÿã': 53452,\n",
              " '²ã': 52768,\n",
              " 'ãƒ³': 53241,\n",
              " 'œèµ': 53617,\n",
              " '¹ãƒˆã': 52801,\n",
              " 'ï¼ˆã': 53479,\n",
              " 'ãƒƒãƒˆã': 53257,\n",
              " '53121otc1ã': 4290,\n",
              " '¾å': 53178,\n",
              " 'october': 34651,\n",
              " '16': 1471,\n",
              " '53121otc1': 4289,\n",
              " 'ntä': 34367,\n",
              " 'll8141ã': 30059,\n",
              " 'µãƒ¼ãƒ': 52785,\n",
              " 'indexãƒ': 26415,\n",
              " 'éƒ': 53360,\n",
              " 'ãƒ³ãƒˆã': 53245,\n",
              " 'unix2': 49401,\n",
              " 'solaris2': 44263,\n",
              " '6ã': 4995,\n",
              " 'filesystemä': 21131,\n",
              " 'oracleã': 35144,\n",
              " 'tablespaceã': 46654,\n",
              " 'solarisä': 44264,\n",
              " 'žåž': 53676,\n",
              " 'æššæ': 53317,\n",
              " 'thu': 47627,\n",
              " '18': 1654,\n",
              " '17': 1573,\n",
              " '24': 2472,\n",
              " '33': 3310,\n",
              " '0400': 458,\n",
              " 'äº': 53268,\n",
              " 'ÿwatch': 53484,\n",
              " 'logã': 30210,\n",
              " 'ãƒªã': 53235,\n",
              " 'èª': 53337,\n",
              " '³ã': 52775,\n",
              " 'å¼': 53286,\n",
              " 'dr': 18088,\n",
              " 'watsonãƒ': 50978,\n",
              " 'å¾': 53292,\n",
              " 'ÿé': 53498,\n",
              " 'çµ': 53325,\n",
              " 'ªè': 52765,\n",
              " '49': 4037,\n",
              " '²æ': 52771,\n",
              " 'æœ': 53312,\n",
              " 'žæ': 53678,\n",
              " 'ˆæ': 53703,\n",
              " 'å¾œï¼ˆæ': 53294,\n",
              " 'œæœ': 53609,\n",
              " 'fri': 22081,\n",
              " '12': 1077,\n",
              " '26': 2608,\n",
              " '¾é': 53183,\n",
              " 'œè': 53616,\n",
              " '¼ã': 52836,\n",
              " 'šå¾': 53647,\n",
              " 'friday': 22084,\n",
              " '57': 4460,\n",
              " 'threadãƒ': 47584,\n",
              " 'watch': 50954,\n",
              " 'šãƒ': 53643,\n",
              " 'wed': 51151,\n",
              " '10': 787,\n",
              " '14': 1288,\n",
              " '0900': 668,\n",
              " 'nt': 34339,\n",
              " 'ãƒªç': 53240,\n",
              " 'šå¾œ': 53648,\n",
              " '10æœˆ5æ': 976,\n",
              " 'ºç': 52827,\n",
              " 'ftpã': 22221,\n",
              " 'µã': 52783,\n",
              " 'ãƒˆ': 53259,\n",
              " 'œmitsubishi': 53554,\n",
              " 'chemical': 13100,\n",
              " 'engã': 19388,\n",
              " 'ãƒƒãƒ': 53256,\n",
              " 'œ20011005logs2': 53501,\n",
              " 'zipã': 52657,\n",
              " 'œå': 53601,\n",
              " 'ºåš': 52823,\n",
              " 'å¾œã': 53293,\n",
              " 'è¼ƒã': 53341,\n",
              " 'faultsé': 20779,\n",
              " 'sep': 42770,\n",
              " '31': 3215,\n",
              " '52': 4254,\n",
              " 'çš': 53335,\n",
              " 'æ³': 53307,\n",
              " 'åº': 53284,\n",
              " 'september': 42786,\n",
              " '19': 1731,\n",
              " 'perlã': 36517,\n",
              " '¹ãƒˆãƒ¼ãƒ': 52802,\n",
              " 'å¼šç': 53290,\n",
              " '¾ç': 53181,\n",
              " 'logãƒ': 30211,\n",
              " 'ÿäº': 53487,\n",
              " 'mon': 32445,\n",
              " '15': 1378,\n",
              " 'seem': 42613,\n",
              " 'quite': 39121,\n",
              " 'few': 20999,\n",
              " 'crashes': 15310,\n",
              " 'when': 51329,\n",
              " 'allocating': 7880,\n",
              " 'pointer': 37325,\n",
              " 'jumping': 28191,\n",
              " 'oblivion': 34544,\n",
              " 'should': 43295,\n",
              " 'pl': 37071,\n",
              " 'running': 41600,\n",
              " 'map': 30997,\n",
              " 'relate': 40174,\n",
              " 'unable': 49035,\n",
              " 'trying': 48649,\n",
              " 'invalid': 27217,\n",
              " 'sort': 44388,\n",
              " 'ãƒªä': 53239,\n",
              " 'èµ': 53340,\n",
              " 'zipãƒ': 52658,\n",
              " 'wordãƒ': 51818,\n",
              " 'test': 47238,\n",
              " 'plã': 37266,\n",
              " 'ãƒªãƒ': 53236,\n",
              " 'ãƒˆã': 53261,\n",
              " 'win2kç': 51542,\n",
              " 'watchpslist': 50962,\n",
              " '07': 567,\n",
              " '38': 3511,\n",
              " 'ÿæ': 53493,\n",
              " 'šèª': 53661,\n",
              " '34': 3359,\n",
              " 'ntãƒ': 34366,\n",
              " 'æœˆï¼': 53315,\n",
              " 'solarisç': 44265,\n",
              " 'œé': 53618,\n",
              " 'cemical': 12768,\n",
              " 'ªãƒ': 52757,\n",
              " 'ãƒ¼': 53248,\n",
              " 'ºæ': 52824,\n",
              " '¹æ³': 52808,\n",
              " 'çÿ': 53331,\n",
              " 'æœˆ': 53313,\n",
              " 'ãƒ³ãƒˆ': 53243,\n",
              " 'ãƒ³ç': 53247,\n",
              " '20010626': 1952,\n",
              " '03': 403,\n",
              " '00': 0,\n",
              " '09': 666,\n",
              " '56': 4401,\n",
              " '20010627': 1953,\n",
              " 'connectãƒ': 14611,\n",
              " '20010708': 1954,\n",
              " '22': 2314,\n",
              " '20010710': 1955,\n",
              " '04': 456,\n",
              " '08': 620,\n",
              " '05': 498,\n",
              " '20010718': 1956,\n",
              " '28': 2892,\n",
              " '20010725': 1957,\n",
              " '50': 4143,\n",
              " '20010731': 1958,\n",
              " '20010807': 1959,\n",
              " '20010809': 1960,\n",
              " '01': 264,\n",
              " '20010810': 1961,\n",
              " 'aug': 9360,\n",
              " 'joseph': 28066,\n",
              " 'barrera': 9962,\n",
              " 'iii': 25963,\n",
              " 'free': 21969,\n",
              " 'adware': 7437,\n",
              " 'version': 50238,\n",
              " 'opera': 35027,\n",
              " 'pagesi': 35767,\n",
              " 'mozilla': 32771,\n",
              " 'ignoring': 25950,\n",
              " 'toolbar': 48046,\n",
              " 'ads': 7360,\n",
              " 'altogether': 7970,\n",
              " 'ignore': 25944,\n",
              " 'particularly': 36043,\n",
              " 'obnoxious': 34548,\n",
              " 'businesses': 11853,\n",
              " 'clever': 13569,\n",
              " 'making': 30842,\n",
              " 'obviously': 34594,\n",
              " 'after': 7532,\n",
              " 'since': 43605,\n",
              " ...}"
            ]
          },
          "metadata": {},
          "execution_count": 33
        }
      ],
      "source": [
        "v.vocabulary_"
      ]
    },
    {
      "cell_type": "code",
      "execution_count": null,
      "id": "a805af1f",
      "metadata": {
        "id": "a805af1f",
        "outputId": "1ca0af6c-a838-41c8-baec-1a17b2e8a030",
        "colab": {
          "base_uri": "https://localhost:8080/"
        }
      },
      "outputs": [
        {
          "output_type": "execute_result",
          "data": {
            "text/plain": [
              "array([0, 0, 0, ..., 0, 0, 0])"
            ]
          },
          "metadata": {},
          "execution_count": 34
        }
      ],
      "source": [
        "X_train_np = X_train_cv.toarray()\n",
        "X_train_np[0]"
      ]
    },
    {
      "cell_type": "code",
      "execution_count": null,
      "id": "79aa94f4",
      "metadata": {
        "id": "79aa94f4",
        "outputId": "45f7a587-2cdf-45d9-fe47-bdb910f9b1ff",
        "colab": {
          "base_uri": "https://localhost:8080/"
        }
      },
      "outputs": [
        {
          "output_type": "execute_result",
          "data": {
            "text/plain": [
              "(array([  327,   569,   977,  1938,  1968,  3440,  4489,  6839,  7105,\n",
              "         7156,  7224,  7544,  7599,  7773,  7844,  7915,  7948,  7987,\n",
              "         7990,  8080,  8117,  8125,  8186,  8255,  8340,  8352,  8465,\n",
              "         8757,  8788,  8957,  9066,  9170,  9368,  9539,  9593,  9700,\n",
              "         9859, 10111, 10168, 10177, 10181, 10216, 10296, 10351, 10470,\n",
              "        10544, 10592, 10905, 11225, 11489, 11764, 11850, 11880, 11904,\n",
              "        11928, 12191, 12193, 12225, 12269, 12385, 12398, 12446, 12560,\n",
              "        12563, 12651, 12754, 12826, 12918, 12920, 12927, 12969, 13894,\n",
              "        13974, 14084, 14132, 14138, 14199, 14416, 14780, 14809, 14909,\n",
              "        15088, 15094, 15112, 15113, 15403, 15475, 15671, 15801, 15944,\n",
              "        16061, 16098, 16284, 16286, 16547, 17085, 17121, 17162, 17319,\n",
              "        17736, 17793, 17797, 17889, 18052, 18066, 18120, 18138, 18431,\n",
              "        18520, 18563, 18574, 18807, 19054, 19073, 19429, 19948, 19955,\n",
              "        19972, 19982, 20289, 20318, 20450, 20536, 20658, 20673, 21177,\n",
              "        21191, 21201, 21452, 21630, 21643, 21720, 21725, 21788, 22133,\n",
              "        22149, 22281, 22337, 22476, 22832, 22859, 22865, 22916, 22953,\n",
              "        22999, 23306, 23344, 23381, 23625, 23631, 23866, 23870, 23923,\n",
              "        24019, 24060, 24142, 24190, 24191, 24273, 24304, 24368, 24498,\n",
              "        24503, 24592, 24822, 24934, 25298, 25317, 25507, 25587, 25845,\n",
              "        25922, 26051, 26100, 26130, 26233, 26241, 26748, 26879, 26881,\n",
              "        26939, 26940, 26941, 27153, 27177, 27408, 27442, 27573, 27613,\n",
              "        27973, 28039, 28230, 28442, 28599, 28759, 29196, 29209, 29506,\n",
              "        29533, 29565, 29719, 29767, 29977, 30058, 30191, 30244, 30642,\n",
              "        30690, 30763, 30780, 30790, 30799, 30995, 31036, 31158, 31296,\n",
              "        31427, 31435, 31438, 31467, 31684, 31692, 31694, 31744, 31926,\n",
              "        31930, 31937, 32119, 32182, 32271, 32289, 32575, 32655, 32657,\n",
              "        33092, 33347, 33435, 33440, 33469, 33682, 33716, 33759, 33836,\n",
              "        33871, 34026, 34215, 34241, 34599, 34601, 34693, 34697, 34722,\n",
              "        34738, 34763, 34893, 34895, 34899, 34917, 34926, 35036, 35049,\n",
              "        35141, 35170, 35178, 35195, 35254, 35349, 35357, 35491, 35622,\n",
              "        35710, 36017, 36429, 36571, 36589, 36750, 36760, 36769, 36772,\n",
              "        36783, 36788, 36875, 36876, 36881, 36883, 37118, 37197, 37267,\n",
              "        37732, 37905, 37978, 38043, 38069, 38153, 38220, 38313, 38567,\n",
              "        38811, 38820, 38829, 39008, 39065, 39293, 39333, 39444, 39519,\n",
              "        39568, 39582, 39593, 39619, 39627, 40759, 40775, 40849, 40960,\n",
              "        41066, 41197, 41587, 41789, 41861, 42051, 42061, 42467, 42594,\n",
              "        42719, 42729, 42759, 42879, 42883, 43081, 43116, 43270, 43312,\n",
              "        43527, 43671, 43745, 43746, 44068, 44090, 44096, 44313, 44322,\n",
              "        44332, 44418, 44511, 44606, 44636, 44637, 44702, 44859, 45305,\n",
              "        45391, 45433, 45465, 45655, 45659, 45704, 45838, 46166, 46186,\n",
              "        46713, 46720, 46725, 46732, 46752, 46965, 47100, 47276, 47335,\n",
              "        47347, 47358, 47394, 47402, 47413, 47441, 47466, 47480, 47499,\n",
              "        47502, 47505, 47529, 47564, 47568, 47573, 47615, 47744, 47912,\n",
              "        47933, 47950, 48044, 48274, 48557, 48619, 48691, 48906, 49206,\n",
              "        49270, 49417, 49770, 49781, 49810, 49841, 49887, 50108, 50361,\n",
              "        50572, 50854, 50929, 50943, 50994, 51001, 51022, 51301, 51344,\n",
              "        51348, 51408, 51443, 51505, 51520, 51650, 51679, 51814, 51848,\n",
              "        51859, 51900, 51908, 51909, 51974, 51978, 52138, 52393, 52401,\n",
              "        52453, 52466, 52482]),)"
            ]
          },
          "metadata": {},
          "execution_count": 35
        }
      ],
      "source": [
        "np.where(X_train_np[0]!=0)"
      ]
    },
    {
      "cell_type": "markdown",
      "id": "e6ea444a",
      "metadata": {
        "id": "e6ea444a"
      },
      "source": [
        "<h3>Train the naive bayes model</h3>"
      ]
    },
    {
      "cell_type": "code",
      "execution_count": null,
      "id": "bf02cecc",
      "metadata": {
        "id": "bf02cecc",
        "outputId": "1d1694c3-c8ca-4f12-8047-de797731c413",
        "colab": {
          "base_uri": "https://localhost:8080/",
          "height": 74
        }
      },
      "outputs": [
        {
          "output_type": "execute_result",
          "data": {
            "text/plain": [
              "MultinomialNB()"
            ],
            "text/html": [
              "<style>#sk-container-id-1 {color: black;background-color: white;}#sk-container-id-1 pre{padding: 0;}#sk-container-id-1 div.sk-toggleable {background-color: white;}#sk-container-id-1 label.sk-toggleable__label {cursor: pointer;display: block;width: 100%;margin-bottom: 0;padding: 0.3em;box-sizing: border-box;text-align: center;}#sk-container-id-1 label.sk-toggleable__label-arrow:before {content: \"▸\";float: left;margin-right: 0.25em;color: #696969;}#sk-container-id-1 label.sk-toggleable__label-arrow:hover:before {color: black;}#sk-container-id-1 div.sk-estimator:hover label.sk-toggleable__label-arrow:before {color: black;}#sk-container-id-1 div.sk-toggleable__content {max-height: 0;max-width: 0;overflow: hidden;text-align: left;background-color: #f0f8ff;}#sk-container-id-1 div.sk-toggleable__content pre {margin: 0.2em;color: black;border-radius: 0.25em;background-color: #f0f8ff;}#sk-container-id-1 input.sk-toggleable__control:checked~div.sk-toggleable__content {max-height: 200px;max-width: 100%;overflow: auto;}#sk-container-id-1 input.sk-toggleable__control:checked~label.sk-toggleable__label-arrow:before {content: \"▾\";}#sk-container-id-1 div.sk-estimator input.sk-toggleable__control:checked~label.sk-toggleable__label {background-color: #d4ebff;}#sk-container-id-1 div.sk-label input.sk-toggleable__control:checked~label.sk-toggleable__label {background-color: #d4ebff;}#sk-container-id-1 input.sk-hidden--visually {border: 0;clip: rect(1px 1px 1px 1px);clip: rect(1px, 1px, 1px, 1px);height: 1px;margin: -1px;overflow: hidden;padding: 0;position: absolute;width: 1px;}#sk-container-id-1 div.sk-estimator {font-family: monospace;background-color: #f0f8ff;border: 1px dotted black;border-radius: 0.25em;box-sizing: border-box;margin-bottom: 0.5em;}#sk-container-id-1 div.sk-estimator:hover {background-color: #d4ebff;}#sk-container-id-1 div.sk-parallel-item::after {content: \"\";width: 100%;border-bottom: 1px solid gray;flex-grow: 1;}#sk-container-id-1 div.sk-label:hover label.sk-toggleable__label {background-color: #d4ebff;}#sk-container-id-1 div.sk-serial::before {content: \"\";position: absolute;border-left: 1px solid gray;box-sizing: border-box;top: 0;bottom: 0;left: 50%;z-index: 0;}#sk-container-id-1 div.sk-serial {display: flex;flex-direction: column;align-items: center;background-color: white;padding-right: 0.2em;padding-left: 0.2em;position: relative;}#sk-container-id-1 div.sk-item {position: relative;z-index: 1;}#sk-container-id-1 div.sk-parallel {display: flex;align-items: stretch;justify-content: center;background-color: white;position: relative;}#sk-container-id-1 div.sk-item::before, #sk-container-id-1 div.sk-parallel-item::before {content: \"\";position: absolute;border-left: 1px solid gray;box-sizing: border-box;top: 0;bottom: 0;left: 50%;z-index: -1;}#sk-container-id-1 div.sk-parallel-item {display: flex;flex-direction: column;z-index: 1;position: relative;background-color: white;}#sk-container-id-1 div.sk-parallel-item:first-child::after {align-self: flex-end;width: 50%;}#sk-container-id-1 div.sk-parallel-item:last-child::after {align-self: flex-start;width: 50%;}#sk-container-id-1 div.sk-parallel-item:only-child::after {width: 0;}#sk-container-id-1 div.sk-dashed-wrapped {border: 1px dashed gray;margin: 0 0.4em 0.5em 0.4em;box-sizing: border-box;padding-bottom: 0.4em;background-color: white;}#sk-container-id-1 div.sk-label label {font-family: monospace;font-weight: bold;display: inline-block;line-height: 1.2em;}#sk-container-id-1 div.sk-label-container {text-align: center;}#sk-container-id-1 div.sk-container {/* jupyter's `normalize.less` sets `[hidden] { display: none; }` but bootstrap.min.css set `[hidden] { display: none !important; }` so we also need the `!important` here to be able to override the default hidden behavior on the sphinx rendered scikit-learn.org. See: https://github.com/scikit-learn/scikit-learn/issues/21755 */display: inline-block !important;position: relative;}#sk-container-id-1 div.sk-text-repr-fallback {display: none;}</style><div id=\"sk-container-id-1\" class=\"sk-top-container\"><div class=\"sk-text-repr-fallback\"><pre>MultinomialNB()</pre><b>In a Jupyter environment, please rerun this cell to show the HTML representation or trust the notebook. <br />On GitHub, the HTML representation is unable to render, please try loading this page with nbviewer.org.</b></div><div class=\"sk-container\" hidden><div class=\"sk-item\"><div class=\"sk-estimator sk-toggleable\"><input class=\"sk-toggleable__control sk-hidden--visually\" id=\"sk-estimator-id-1\" type=\"checkbox\" checked><label for=\"sk-estimator-id-1\" class=\"sk-toggleable__label sk-toggleable__label-arrow\">MultinomialNB</label><div class=\"sk-toggleable__content\"><pre>MultinomialNB()</pre></div></div></div></div></div>"
            ]
          },
          "metadata": {},
          "execution_count": 36
        }
      ],
      "source": [
        "from sklearn.naive_bayes import MultinomialNB\n",
        "\n",
        "model = MultinomialNB()\n",
        "model.fit(X_train_cv, y_train)"
      ]
    },
    {
      "cell_type": "code",
      "execution_count": null,
      "id": "94f569a6",
      "metadata": {
        "id": "94f569a6"
      },
      "outputs": [],
      "source": [
        "X_test_cv = v.transform(X_test)"
      ]
    },
    {
      "cell_type": "markdown",
      "id": "101b8b8d",
      "metadata": {
        "id": "101b8b8d"
      },
      "source": [
        "<h3>Evaluate Performance</h3>"
      ]
    },
    {
      "cell_type": "code",
      "execution_count": null,
      "id": "1c0cb441",
      "metadata": {
        "id": "1c0cb441",
        "outputId": "c78a4193-e75d-40de-eafb-a1bdadc6a7c2",
        "colab": {
          "base_uri": "https://localhost:8080/"
        }
      },
      "outputs": [
        {
          "output_type": "stream",
          "name": "stdout",
          "text": [
            "              precision    recall  f1-score   support\n",
            "\n",
            "           0       0.99      0.95      0.97       833\n",
            "           1       0.89      0.97      0.93       376\n",
            "\n",
            "    accuracy                           0.95      1209\n",
            "   macro avg       0.94      0.96      0.95      1209\n",
            "weighted avg       0.96      0.95      0.96      1209\n",
            "\n"
          ]
        }
      ],
      "source": [
        "from sklearn.metrics import classification_report\n",
        "\n",
        "y_pred = model.predict(X_test_cv)\n",
        "\n",
        "print(classification_report(y_test, y_pred))"
      ]
    },
    {
      "cell_type": "code",
      "execution_count": null,
      "id": "27dcf0b7",
      "metadata": {
        "scrolled": true,
        "id": "27dcf0b7",
        "outputId": "c5d41b25-6ed3-456d-f6a0-513a6847607a",
        "colab": {
          "base_uri": "https://localhost:8080/"
        }
      },
      "outputs": [
        {
          "output_type": "execute_result",
          "data": {
            "text/plain": [
              "array([0, 1])"
            ]
          },
          "metadata": {},
          "execution_count": 39
        }
      ],
      "source": [
        "emails = [\n",
        "    'Hey mohan, can we get together to watch footbal game tomorrow?',\n",
        "    'Upto 20% discount on parking, exclusive offer just for you. Dont miss this reward!'\n",
        "]\n",
        "\n",
        "emails_count = v.transform(emails)\n",
        "model.predict(emails_count)"
      ]
    },
    {
      "cell_type": "markdown",
      "id": "22c9e2e2",
      "metadata": {
        "id": "22c9e2e2"
      },
      "source": [
        "<h3>Train the model using sklearn pipeline and reduce number of lines of code</h3>"
      ]
    },
    {
      "cell_type": "code",
      "execution_count": null,
      "id": "863f5ffa",
      "metadata": {
        "id": "863f5ffa"
      },
      "outputs": [],
      "source": [
        "from sklearn.pipeline import Pipeline\n",
        "\n",
        "clf = Pipeline([\n",
        "    ('vectorizer', CountVectorizer()),\n",
        "    ('nb', MultinomialNB())\n",
        "])"
      ]
    },
    {
      "cell_type": "code",
      "execution_count": null,
      "id": "26ecc1d4",
      "metadata": {
        "id": "26ecc1d4",
        "outputId": "6cc41f22-a234-403f-fb6a-c6be9a8bfa23",
        "colab": {
          "base_uri": "https://localhost:8080/",
          "height": 125
        }
      },
      "outputs": [
        {
          "output_type": "execute_result",
          "data": {
            "text/plain": [
              "Pipeline(steps=[('vectorizer', CountVectorizer()), ('nb', MultinomialNB())])"
            ],
            "text/html": [
              "<style>#sk-container-id-2 {color: black;background-color: white;}#sk-container-id-2 pre{padding: 0;}#sk-container-id-2 div.sk-toggleable {background-color: white;}#sk-container-id-2 label.sk-toggleable__label {cursor: pointer;display: block;width: 100%;margin-bottom: 0;padding: 0.3em;box-sizing: border-box;text-align: center;}#sk-container-id-2 label.sk-toggleable__label-arrow:before {content: \"▸\";float: left;margin-right: 0.25em;color: #696969;}#sk-container-id-2 label.sk-toggleable__label-arrow:hover:before {color: black;}#sk-container-id-2 div.sk-estimator:hover label.sk-toggleable__label-arrow:before {color: black;}#sk-container-id-2 div.sk-toggleable__content {max-height: 0;max-width: 0;overflow: hidden;text-align: left;background-color: #f0f8ff;}#sk-container-id-2 div.sk-toggleable__content pre {margin: 0.2em;color: black;border-radius: 0.25em;background-color: #f0f8ff;}#sk-container-id-2 input.sk-toggleable__control:checked~div.sk-toggleable__content {max-height: 200px;max-width: 100%;overflow: auto;}#sk-container-id-2 input.sk-toggleable__control:checked~label.sk-toggleable__label-arrow:before {content: \"▾\";}#sk-container-id-2 div.sk-estimator input.sk-toggleable__control:checked~label.sk-toggleable__label {background-color: #d4ebff;}#sk-container-id-2 div.sk-label input.sk-toggleable__control:checked~label.sk-toggleable__label {background-color: #d4ebff;}#sk-container-id-2 input.sk-hidden--visually {border: 0;clip: rect(1px 1px 1px 1px);clip: rect(1px, 1px, 1px, 1px);height: 1px;margin: -1px;overflow: hidden;padding: 0;position: absolute;width: 1px;}#sk-container-id-2 div.sk-estimator {font-family: monospace;background-color: #f0f8ff;border: 1px dotted black;border-radius: 0.25em;box-sizing: border-box;margin-bottom: 0.5em;}#sk-container-id-2 div.sk-estimator:hover {background-color: #d4ebff;}#sk-container-id-2 div.sk-parallel-item::after {content: \"\";width: 100%;border-bottom: 1px solid gray;flex-grow: 1;}#sk-container-id-2 div.sk-label:hover label.sk-toggleable__label {background-color: #d4ebff;}#sk-container-id-2 div.sk-serial::before {content: \"\";position: absolute;border-left: 1px solid gray;box-sizing: border-box;top: 0;bottom: 0;left: 50%;z-index: 0;}#sk-container-id-2 div.sk-serial {display: flex;flex-direction: column;align-items: center;background-color: white;padding-right: 0.2em;padding-left: 0.2em;position: relative;}#sk-container-id-2 div.sk-item {position: relative;z-index: 1;}#sk-container-id-2 div.sk-parallel {display: flex;align-items: stretch;justify-content: center;background-color: white;position: relative;}#sk-container-id-2 div.sk-item::before, #sk-container-id-2 div.sk-parallel-item::before {content: \"\";position: absolute;border-left: 1px solid gray;box-sizing: border-box;top: 0;bottom: 0;left: 50%;z-index: -1;}#sk-container-id-2 div.sk-parallel-item {display: flex;flex-direction: column;z-index: 1;position: relative;background-color: white;}#sk-container-id-2 div.sk-parallel-item:first-child::after {align-self: flex-end;width: 50%;}#sk-container-id-2 div.sk-parallel-item:last-child::after {align-self: flex-start;width: 50%;}#sk-container-id-2 div.sk-parallel-item:only-child::after {width: 0;}#sk-container-id-2 div.sk-dashed-wrapped {border: 1px dashed gray;margin: 0 0.4em 0.5em 0.4em;box-sizing: border-box;padding-bottom: 0.4em;background-color: white;}#sk-container-id-2 div.sk-label label {font-family: monospace;font-weight: bold;display: inline-block;line-height: 1.2em;}#sk-container-id-2 div.sk-label-container {text-align: center;}#sk-container-id-2 div.sk-container {/* jupyter's `normalize.less` sets `[hidden] { display: none; }` but bootstrap.min.css set `[hidden] { display: none !important; }` so we also need the `!important` here to be able to override the default hidden behavior on the sphinx rendered scikit-learn.org. See: https://github.com/scikit-learn/scikit-learn/issues/21755 */display: inline-block !important;position: relative;}#sk-container-id-2 div.sk-text-repr-fallback {display: none;}</style><div id=\"sk-container-id-2\" class=\"sk-top-container\"><div class=\"sk-text-repr-fallback\"><pre>Pipeline(steps=[(&#x27;vectorizer&#x27;, CountVectorizer()), (&#x27;nb&#x27;, MultinomialNB())])</pre><b>In a Jupyter environment, please rerun this cell to show the HTML representation or trust the notebook. <br />On GitHub, the HTML representation is unable to render, please try loading this page with nbviewer.org.</b></div><div class=\"sk-container\" hidden><div class=\"sk-item sk-dashed-wrapped\"><div class=\"sk-label-container\"><div class=\"sk-label sk-toggleable\"><input class=\"sk-toggleable__control sk-hidden--visually\" id=\"sk-estimator-id-2\" type=\"checkbox\" ><label for=\"sk-estimator-id-2\" class=\"sk-toggleable__label sk-toggleable__label-arrow\">Pipeline</label><div class=\"sk-toggleable__content\"><pre>Pipeline(steps=[(&#x27;vectorizer&#x27;, CountVectorizer()), (&#x27;nb&#x27;, MultinomialNB())])</pre></div></div></div><div class=\"sk-serial\"><div class=\"sk-item\"><div class=\"sk-estimator sk-toggleable\"><input class=\"sk-toggleable__control sk-hidden--visually\" id=\"sk-estimator-id-3\" type=\"checkbox\" ><label for=\"sk-estimator-id-3\" class=\"sk-toggleable__label sk-toggleable__label-arrow\">CountVectorizer</label><div class=\"sk-toggleable__content\"><pre>CountVectorizer()</pre></div></div></div><div class=\"sk-item\"><div class=\"sk-estimator sk-toggleable\"><input class=\"sk-toggleable__control sk-hidden--visually\" id=\"sk-estimator-id-4\" type=\"checkbox\" ><label for=\"sk-estimator-id-4\" class=\"sk-toggleable__label sk-toggleable__label-arrow\">MultinomialNB</label><div class=\"sk-toggleable__content\"><pre>MultinomialNB()</pre></div></div></div></div></div></div></div>"
            ]
          },
          "metadata": {},
          "execution_count": 41
        }
      ],
      "source": [
        "clf.fit(X_train, y_train)"
      ]
    },
    {
      "cell_type": "code",
      "execution_count": null,
      "id": "e7d9b00b",
      "metadata": {
        "id": "e7d9b00b",
        "outputId": "d43aeae3-a0a5-4321-a329-071e7b7bfc4d",
        "colab": {
          "base_uri": "https://localhost:8080/"
        }
      },
      "outputs": [
        {
          "output_type": "stream",
          "name": "stdout",
          "text": [
            "              precision    recall  f1-score   support\n",
            "\n",
            "           0       0.99      0.95      0.97       833\n",
            "           1       0.89      0.97      0.93       376\n",
            "\n",
            "    accuracy                           0.95      1209\n",
            "   macro avg       0.94      0.96      0.95      1209\n",
            "weighted avg       0.96      0.95      0.96      1209\n",
            "\n"
          ]
        }
      ],
      "source": [
        "y_pred = clf.predict(X_test)\n",
        "\n",
        "print(classification_report(y_test, y_pred))"
      ]
    }
  ],
  "metadata": {
    "kernelspec": {
      "display_name": "Python 3",
      "language": "python",
      "name": "python3"
    },
    "language_info": {
      "codemirror_mode": {
        "name": "ipython",
        "version": 3
      },
      "file_extension": ".py",
      "mimetype": "text/x-python",
      "name": "python",
      "nbconvert_exporter": "python",
      "pygments_lexer": "ipython3",
      "version": "3.8.10"
    },
    "colab": {
      "provenance": []
    }
  },
  "nbformat": 4,
  "nbformat_minor": 5
}